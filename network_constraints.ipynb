{
 "cells": [
  {
   "cell_type": "markdown",
   "metadata": {},
   "source": [
    "## Sieć ograniczenia\n",
    "\n",
    "### Eksperymenty\n",
    "1. Sprawdzenie wydajności i wyników algorytmu którego generator i funkcja krzyżowania może generować dane faworyzujące agregację albo dezagregację w każdym układzie.\n",
    "2. Na przykład jak radzi sobie algorytm z generatorem agregacyjnym i krzyżowaniem dezagregacyjnym w porównaniu z algorytmem z generatorem i krzyżowaniem agregacyjnym\n",
    "3. Eksperymenty związane z wykorzystywaniem rozbudowy. Na przykład wprowadzenie kary lub nagrody w funkcji kosztów za rozbudowywanie struktur ponad bazową wersję\n",
    "4. Porównanie algorytmu priorytetyzującego najkrótsze połączenia i algorytmu który na to nie uważa\n",
    "5. Porównanie algorytmu genetycznego i ewolucyjnego różniczkowego"
   ]
  },
  {
   "cell_type": "code",
   "execution_count": 2,
   "metadata": {},
   "outputs": [],
   "source": [
    "from data_reader import parse_sndlib_file\n",
    "from main import run_evolution_algorithm\n",
    "\n",
    "\n",
    "with open(\"data.txt\", \"r\") as file:\n",
    "    file_content = file.read()\n",
    "nodes, links, demands, admissible_paths = parse_sndlib_file(file_content)"
   ]
  },
  {
   "cell_type": "markdown",
   "metadata": {},
   "source": [
    "Algorytm genetyczny:"
   ]
  },
  {
   "cell_type": "code",
   "execution_count": 3,
   "metadata": {},
   "outputs": [
    {
     "name": "stdout",
     "output_type": "stream",
     "text": [
      "Generation: 0, minimum: 16020625\n",
      "Generation: 1, minimum: 16019710\n",
      "Generation: 2, minimum: 14020040\n",
      "Generation: 3, minimum: 10020040\n",
      "Generation: 4, minimum: 9016779\n",
      "Generation: 5, minimum: 6014703\n",
      "Generation: 6, minimum: 5014739\n",
      "Generation: 7, minimum: 4014805\n",
      "Generation: 8, minimum: 3012681\n",
      "Generation: 9, minimum: 1012462\n",
      "Generation: 10, minimum: 1010779\n",
      "Generation: 11, minimum: 1010440\n",
      "Generation: 12, minimum: 9213\n",
      "Generation: 13, minimum: 9000\n",
      "Generation: 14, minimum: 8718\n",
      "Generation: 15, minimum: 8250\n",
      "Generation: 16, minimum: 8250\n",
      "Generation: 17, minimum: 8250\n",
      "Generation: 18, minimum: 8250\n",
      "Generation: 19, minimum: 8250\n",
      "Result: 8250\n"
     ]
    }
   ],
   "source": [
    "result = run_evolution_algorithm(nodes, links, demands, admissible_paths, n_generations=20)\n",
    "print(f\"Result: {result}\")"
   ]
  },
  {
   "cell_type": "markdown",
   "metadata": {},
   "source": [
    "Algorytm ewolucyjny różniczkowy:"
   ]
  },
  {
   "cell_type": "code",
   "execution_count": 5,
   "metadata": {},
   "outputs": [
    {
     "name": "stdout",
     "output_type": "stream",
     "text": [
      "Generation: 0, minimum: 16020625\n",
      "Generation: 1, minimum: 17020625\n",
      "Generation: 2, minimum: 18020625\n",
      "Generation: 3, minimum: 18020625\n",
      "Generation: 4, minimum: 18020625\n",
      "Generation: 5, minimum: 18020625\n",
      "Generation: 6, minimum: 18020625\n",
      "Generation: 7, minimum: 18020625\n",
      "Generation: 8, minimum: 18020625\n",
      "Generation: 9, minimum: 18020625\n",
      "Generation: 10, minimum: 18020625\n",
      "Generation: 11, minimum: 18020625\n",
      "Generation: 12, minimum: 18020625\n",
      "Generation: 13, minimum: 18020625\n",
      "Generation: 14, minimum: 18020625\n",
      "Generation: 15, minimum: 18020625\n",
      "Generation: 16, minimum: 18020625\n",
      "Generation: 17, minimum: 18020625\n",
      "Generation: 18, minimum: 18020625\n",
      "Generation: 19, minimum: 18020625\n",
      "Result: 16020625\n"
     ]
    }
   ],
   "source": [
    "result = run_evolution_algorithm(nodes, links, demands, admissible_paths, n_generations=20, differential=True)\n",
    "print(f\"Result: {result}\")"
   ]
  }
 ],
 "metadata": {
  "kernelspec": {
   "display_name": ".venv",
   "language": "python",
   "name": "python3"
  },
  "language_info": {
   "codemirror_mode": {
    "name": "ipython",
    "version": 3
   },
   "file_extension": ".py",
   "mimetype": "text/x-python",
   "name": "python",
   "nbconvert_exporter": "python",
   "pygments_lexer": "ipython3",
   "version": "3.10.12"
  }
 },
 "nbformat": 4,
 "nbformat_minor": 2
}
